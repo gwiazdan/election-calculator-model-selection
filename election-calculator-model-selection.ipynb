{
 "cells": [
  {
   "cell_type": "markdown",
   "id": "8e6fc169",
   "metadata": {},
   "source": [
    "# Election Calculator Model Selection\n",
    "author: gwiazdan  \n",
    "date: 27-06-2025"
   ]
  },
  {
   "cell_type": "markdown",
   "id": "b4c75881",
   "metadata": {},
   "source": [
    "## Table of Contents\n",
    "\n",
    "\n",
    "1. [Introduction](#Introduction)\n",
    "2. [Overview of the problem](#overview-of-the-problem)\n",
    "3. [Proposed solutions](#proposed-solutions)"
   ]
  },
  {
   "cell_type": "markdown",
   "id": "fe24f676",
   "metadata": {},
   "source": [
    "# Introduction"
   ]
  },
  {
   "cell_type": "markdown",
   "id": "d35a0b3e",
   "metadata": {
    "vscode": {
     "languageId": "plaintext"
    }
   },
   "source": [
    "\n",
    "## Project Purpose ❓\n",
    "The project was initiated to address the problem of calculating vote distribution at lower administrative levels. It was never intended to create calculator based on small samples or any other regressional models - such precission is unnecessary. The whole project is to be more like a a general-purpose tool, used to get some insight into how votes may be distributed - not the most accurate distribution achievable.\n",
    "## Solution finding 🔍\n",
    "The search for an optimal function will be guided by the following criteria:\n",
    "- Minimization of the mean squared error (MSE) relative to summed up votes,\n",
    "- Sublinear growth behavior,\n",
    "- Acceptable computational efficiency (not too time-consuming to calculate)."
   ]
  },
  {
   "cell_type": "markdown",
   "id": "8470e0ac",
   "metadata": {},
   "source": [
    "# Overview of the problem\n"
   ]
  },
  {
   "cell_type": "markdown",
   "id": "a9a30171",
   "metadata": {},
   "source": [
    "## Mathematical theory 📄\n",
    "\n",
    "Assume that the vote percentage grows according to a function $\\mathrm{f}$. Function $\\mathrm{f}$ takes the **countrywide vote percentage** as an argument and returns the **local vote percentage**. Each function may differ from other functions related to different constituencies. Therefore, it might be convenient to assume that each function belongs to a **function space** $\\mathrm{F}$, where $\\mathrm{f_n} \\in \\mathrm{F}, n \\in N$, and $N$ is a finite discrete set of territorial unit identifiers.\n",
    "\n",
    "Each territorial unit $n \\in N$ has a 2-tuple $(a_n, b_n)$, where $a_n$ is the \"weight\" of the territorial unit (total votes), and $b_n$ is a historical reference value that describes the status quo. Then, it is possible to say that $\\displaystyle \\sum_{n\\in N} a_n \\mathrm{f_n(x)} = a_{total} x$.\n",
    "\n",
    "It is possible that the sum may differ from the theoretical value. Then our error is $\\Delta_p = x_p - \\displaystyle \\sum_{n\\in N} a_n \\mathrm{f_n(x_p)}$, where $x_p$ is the countrywide vote percentage for party $p$. As the formula is related to one party only, we can say that the total error is $Error = \\displaystyle \\sum_{p\\in P} \\Delta_p$, where $P$ is the set of political parties."
   ]
  },
  {
   "cell_type": "markdown",
   "id": "918b8203",
   "metadata": {},
   "source": [
    "# Proposed solutions"
   ]
  },
  {
   "cell_type": "markdown",
   "id": "2a5b11a2",
   "metadata": {},
   "source": [
    "## Basic linearity 📐\n",
    "\n",
    "Let's assume that each $\\mathrm{f}_n(x)=\\frac{b_n}{x_0}x$, then:\n",
    "\n",
    "$$\\begin{equation}\n",
    "\\sum_{n\\in N} a_n\\mathrm{f_n(x)} = a_{total} x \\tag{1}\n",
    "\\end{equation}$$\n",
    "\n",
    "$$\\begin{equation}\n",
    "\\sum_{n\\in N} a_n \\frac{b_n}{x_0} x = a_{total} x \\tag{2}\n",
    "\\end{equation}$$\n",
    "\n",
    "$$\\begin{equation}\n",
    "\\frac{x}{x_0} \\sum_{n \\in N} a_n b_n = a_{total} x \\tag{3}\n",
    "\\end{equation}$$\n",
    "\n",
    "$$\\begin{equation}\n",
    "\\sum_{n \\in N} a_n b_n = a_{total} x_0 \\tag{4}\n",
    "\\end{equation}$$\n",
    "\n",
    "Equation (4) is satisfied by construction.\n",
    "\n",
    "However, party results may not sum up to 100% - which may be a major problem in our calculating model.\n",
    "\n",
    "Pros:\n",
    "- Easy to implement\n",
    "- Quick and memoryless\n",
    "- Sum of votes from constituencies approximates to total votes  \n",
    "\n",
    "Cons:\n",
    "- Votes does not sum up to 100% in constituency\n",
    "- Too idealistic"
   ]
  },
  {
   "cell_type": "code",
   "execution_count": 1,
   "id": "61989f65",
   "metadata": {},
   "outputs": [
    {
     "data": {
      "text/markdown": [
       "### Calculated Mean Squared Error for the Linear Model:\n",
       "$$\\Delta_{MSE} = 5.07 \\times 10^{2}$$\n",
       "$$\\Delta_{RMSE} = 1.11 \\times 10^{-9}\\%$$\n",
       "$$\\mathrm{t_{{avg}}}=167.37 ms$$\n",
       "In theory, the MSE for this model should be zero. However, in practice, due to the limitations of floating-point arithmetic, the accumulation of small rounding errors during calculations leads to a small, non-zero result."
      ],
      "text/plain": [
       "<IPython.core.display.Markdown object>"
      ]
     },
     "metadata": {},
     "output_type": "display_data"
    }
   ],
   "source": [
    "import sys\n",
    "sys.path.append('scripts')\n",
    "from IPython.display import Markdown, display\n",
    "from formating_features import format_scientific_notation, format_time\n",
    "from function_fitting import function_fitter\n",
    "from functions import linear_function, improved_linear_function\n",
    "ff = function_fitter(2)\n",
    "\n",
    "raw_mse, raw_rmse, time = ff.calculate_mse(linear_function)\n",
    "\n",
    "mse = format_scientific_notation(raw_mse)\n",
    "rmse = format_scientific_notation(raw_rmse * 100)\n",
    "\n",
    "display(Markdown(\"### Calculated Mean Squared Error for the Linear Model:\" + \"\\n\" +\n",
    "r\"$$\\Delta_{MSE} = \" + mse + r\"$$\" + \"\\n\" + r\"$$\\Delta_{RMSE} = \" + rmse + r\"\\%$$\" + \"\\n\" + r\"$$\\mathrm{t_{{avg}}}=\" + format_time(time) + r\"$$\" \"\\nIn theory, the MSE for this model should be zero. However, in practice, due to the limitations of floating-point arithmetic, the accumulation of small rounding errors during calculations leads to a small, non-zero result.\"))"
   ]
  },
  {
   "cell_type": "markdown",
   "id": "3f6df519",
   "metadata": {},
   "source": [
    "## Linear function with total sum preservation"
   ]
  },
  {
   "cell_type": "markdown",
   "id": "038a360a",
   "metadata": {},
   "source": [
    "Each time a row vector is calculated:\n",
    "$$\\mathbb{V}=\\begin{bmatrix}v_1 \\\\ v_2 \\\\ \\vdots \\\\v_n \\end{bmatrix}$$\n",
    "$$\\varphi = \\frac{v_{total}}{\\|\\mathbb{V}\\|_1}$$\n",
    "$$\\mathbb{V}_{rescaled}=\\varphi \\mathbb{V}$$\n",
    "Then, the integer part of the rescaled votes is calculated using the floor function $\\lfloor\\mathbb{V}_{rescaled}\\rfloor$. To ensure the sum matches the total votes, the remaining votes are distributed one by one to the parties with the highest remainders, in descending order."
   ]
  },
  {
   "cell_type": "code",
   "execution_count": 3,
   "id": "42f90681",
   "metadata": {},
   "outputs": [
    {
     "data": {
      "text/markdown": [
       "### Calculated Mean Squared Error for the Improved Linear Model:\n",
       "$$\\Delta_{MSE} = 5.07 \\times 10^{2}$$\n",
       "$$\\Delta_{RMSE} = 1.11 \\times 10^{-9}\\%$$\n",
       "$$\\mathrm{t_{{avg}}}=188.81 ms$$"
      ],
      "text/plain": [
       "<IPython.core.display.Markdown object>"
      ]
     },
     "metadata": {},
     "output_type": "display_data"
    }
   ],
   "source": [
    "raw_mse, raw_rmse, time = ff.calculate_mse(improved_linear_function)\n",
    "\n",
    "mse = format_scientific_notation(raw_mse)\n",
    "rmse = format_scientific_notation(raw_rmse * 100)\n",
    "\n",
    "display(Markdown(\"### Calculated Mean Squared Error for the Improved Linear Model:\" + \"\\n\" +\n",
    "r\"$$\\Delta_{MSE} = \" + mse + r\"$$\" + \"\\n\" + r\"$$\\Delta_{RMSE} = \" + rmse + r\"\\%$$\" + \"\\n\" + r\"$$\\mathrm{t_{{avg}}}=\" + format_time(time) + r\"$$\"))"
   ]
  }
 ],
 "metadata": {
  "kernelspec": {
   "display_name": ".conda",
   "language": "python",
   "name": "python3"
  },
  "language_info": {
   "codemirror_mode": {
    "name": "ipython",
    "version": 3
   },
   "file_extension": ".py",
   "mimetype": "text/x-python",
   "name": "python",
   "nbconvert_exporter": "python",
   "pygments_lexer": "ipython3",
   "version": "3.11.13"
  }
 },
 "nbformat": 4,
 "nbformat_minor": 5
}
