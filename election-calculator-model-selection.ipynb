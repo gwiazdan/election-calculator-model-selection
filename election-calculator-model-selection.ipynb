{
 "cells": [
  {
   "cell_type": "markdown",
   "id": "8e6fc169",
   "metadata": {},
   "source": [
    "# Election Calculator Model Selection\n",
    "author: gwiazdan  \n",
    "date: 27-06-2025"
   ]
  },
  {
   "cell_type": "markdown",
   "id": "b4c75881",
   "metadata": {},
   "source": [
    "## Table of Contents\n",
    "\n",
    "\n",
    "1. [Introduction](#Introduction)\n",
    "2. [Overview of the problem](#overview-of-the-problem)"
   ]
  },
  {
   "cell_type": "markdown",
   "id": "fe24f676",
   "metadata": {},
   "source": [
    "# Introduction"
   ]
  },
  {
   "cell_type": "markdown",
   "id": "d35a0b3e",
   "metadata": {
    "vscode": {
     "languageId": "plaintext"
    }
   },
   "source": [
    "\n",
    "## Project Purpose ❓\n",
    "The project was initiated to address the problem of calculating vote distribution at lower administrative levels. It was never intended to create calculator based on small samples or any other regressional models - such precission is unnecessary. The whole project is to be more like a a general-purpose tool, used to get some insight into how votes may be distributed - not the most accurate distribution achievable.\n",
    "## Solution finding 🔍\n",
    "The search for an optimal function will be guided by the following criteria:\n",
    "- Minimization of the mean squared error (MSE) relative to summed up votes,\n",
    "- Sublinear growth behavior,\n",
    "- Acceptable computational efficiency (not too time-consuming to calculate)."
   ]
  },
  {
   "cell_type": "markdown",
   "id": "8470e0ac",
   "metadata": {},
   "source": [
    "# Overview of the problem\n"
   ]
  },
  {
   "cell_type": "markdown",
   "id": "a9a30171",
   "metadata": {},
   "source": [
    "## Mathematical theory 📄\n",
    "\n",
    "Assume that we have a vector $\\mathbf{V}=(v_1,v_2,\\dotsc,v_n)$ that describes either cetrain administrative district or constituency. Then:\n",
    "- $v_i$ is a fraction of votes for party number $i$.\n",
    "- $\\forall i, v_i \\geq 0$ \n",
    "- $\\displaystyle \\sum_{i=1}^n v_i = 1$ \n",
    "\n",
    "We must also assume that there is a scalar value $a_j$, which is equal the total votes in absolute terms in certain district or constituency and $j\\in m, m\\in \\mathbb{N}_+$. Then:  \n",
    "- $\\displaystyle \\sum_{j=1}^m a_j \\cdot \\mathbf{V}_j = a_{total} \\cdot \\mathbf{V}_{total}$\n",
    "\n",
    "\n"
   ]
  }
 ],
 "metadata": {
  "kernelspec": {
   "display_name": ".conda",
   "language": "python",
   "name": "python3"
  },
  "language_info": {
   "codemirror_mode": {
    "name": "ipython",
    "version": 3
   },
   "file_extension": ".py",
   "mimetype": "text/x-python",
   "name": "python",
   "nbconvert_exporter": "python",
   "pygments_lexer": "ipython3",
   "version": "3.13.5"
  }
 },
 "nbformat": 4,
 "nbformat_minor": 5
}
