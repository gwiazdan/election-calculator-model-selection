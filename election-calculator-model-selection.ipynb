{
 "cells": [
  {
   "cell_type": "markdown",
   "id": "8e6fc169",
   "metadata": {},
   "source": [
    "# Election Calculator Model Selection\n",
    "author: gwiazdan  \n",
    "date: 27-06-2025"
   ]
  },
  {
   "cell_type": "markdown",
   "id": "b4c75881",
   "metadata": {},
   "source": [
    "## Table of Contents\n",
    "\n",
    "\n",
    "1. [Introduction](#Introduction)\n",
    "2. [Overview of the problem](#overview-of-the-problem)"
   ]
  },
  {
   "cell_type": "markdown",
   "id": "fe24f676",
   "metadata": {},
   "source": [
    "# Introduction"
   ]
  },
  {
   "cell_type": "markdown",
   "id": "d35a0b3e",
   "metadata": {
    "vscode": {
     "languageId": "plaintext"
    }
   },
   "source": [
    "\n",
    "## Project Purpose ❓\n",
    "The project was initiated to address the problem of calculating vote distribution at lower administrative levels. It was never intended to create calculator based on small samples or any other regressional models - such precission is unnecessary. The whole project is to be more like a a general-purpose tool, used to get some insight into how votes may be distributed - not the most accurate distribution achievable.\n",
    "## Solution finding 🔍\n",
    "The search for an optimal function will be guided by the following criteria:\n",
    "- Minimization of the mean squared error (MSE) relative to summed up votes,\n",
    "- Sublinear growth behavior,\n",
    "- Acceptable computational efficiency (not too time-consuming to calculate)."
   ]
  },
  {
   "cell_type": "markdown",
   "id": "8470e0ac",
   "metadata": {},
   "source": [
    "# Overview of the problem\n"
   ]
  },
  {
   "cell_type": "markdown",
   "id": "a9a30171",
   "metadata": {},
   "source": [
    "## Mathematical theory 📄\n",
    "\n",
    "Assume that the vote percentage grows according to a function $\\mathrm{f}$. Function $\\mathrm{f}$ takes the **countrywide vote percentage** as an argument and returns the **local vote percentage**. Each function may differ from other functions related to different constituencies. Therefore, it might be convenient to assume that each function belongs to a **function space** $\\mathrm{F}$, where $\\mathrm{f_n} \\in \\mathrm{F}, n \\in N$, and $N$ is a finite discrete set of territorial unit identifiers.\n",
    "\n",
    "Each territorial unit $n \\in N$ has a 2-tuple $(a_n, b_n)$, where $a_n$ is the \"weight\" of the territorial unit (total votes), and $b_n$ is a historical reference value that describes the status quo. Then, it is possible to say that $\\displaystyle \\sum_{n\\in N} a_n f_n(x) = a_{total} * x$.\n",
    "\n",
    "It is possible that the sum may differ from the theoretical value. Then our error is $\\Delta_p = x_p - \\displaystyle \\sum_{n\\in N} a_n f_n(x_p)$, where $x_p$ is the countrywide vote percentage for party $p$. As the formula is related to one party only, we can say that the total error is $Error = \\displaystyle \\sum_{p\\in P} \\Delta_p$, where $P$ is the set of political parties."
   ]
  }
 ],
 "metadata": {
  "kernelspec": {
   "display_name": ".conda",
   "language": "python",
   "name": "python3"
  },
  "language_info": {
   "codemirror_mode": {
    "name": "ipython",
    "version": 3
   },
   "file_extension": ".py",
   "mimetype": "text/x-python",
   "name": "python",
   "nbconvert_exporter": "python",
   "pygments_lexer": "ipython3",
   "version": "3.13.5"
  }
 },
 "nbformat": 4,
 "nbformat_minor": 5
}
